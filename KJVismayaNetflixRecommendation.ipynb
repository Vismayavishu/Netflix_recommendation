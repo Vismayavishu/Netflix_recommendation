{
  "nbformat": 4,
  "nbformat_minor": 0,
  "metadata": {
    "kernelspec": {
      "display_name": "Python 3",
      "language": "python",
      "name": "python3"
    },
    "language_info": {
      "codemirror_mode": {
        "name": "ipython",
        "version": 3
      },
      "file_extension": ".py",
      "mimetype": "text/x-python",
      "name": "python",
      "nbconvert_exporter": "python",
      "pygments_lexer": "ipython3",
      "version": "3.7.1"
    },
    "colab": {
      "name": "KJVismayaNetflixRecommendation.ipynb",
      "provenance": [],
      "collapsed_sections": []
    }
  },
  "cells": [
    {
      "cell_type": "code",
      "metadata": {
        "id": "qbuOXn9_Q2Pw"
      },
      "source": [
        "import pandas as pd"
      ],
      "execution_count": null,
      "outputs": []
    },
    {
      "cell_type": "code",
      "metadata": {
        "id": "RUmlxofCQ2P2"
      },
      "source": [
        "movies_data = pd.read_csv('movies_metadata.csv',low_memory=False)"
      ],
      "execution_count": null,
      "outputs": []
    },
    {
      "cell_type": "code",
      "metadata": {
        "id": "3U_x7ti7Q2P6"
      },
      "source": [
        "from ast import literal_eval\n",
        "movies_data['genres'] = movies_data['genres'].fillna('[]').apply(literal_eval)\n",
        "movies_data['genres'] = movies_data['genres'].apply(lambda x: [i['name'] for i in x] if isinstance(x, list) else[])\n",
        "movies_data['genres'].head(2)"
      ],
      "execution_count": null,
      "outputs": []
    },
    {
      "cell_type": "code",
      "metadata": {
        "id": "osJuaEcJSzoy"
      },
      "source": [
        "genre_split = movies_data.apply(lambda x: pd.Series(x['genres']),axis=1).stack().reset_index(level=1, drop=True)\n",
        "genre_split.head(6)"
      ],
      "execution_count": null,
      "outputs": []
    },
    {
      "cell_type": "code",
      "metadata": {
        "id": "tYHVanRoS2RX"
      },
      "source": [
        "genre_split.name = 'Genre'\n",
        "md = movies_data.drop('genres', axis=1).join(genre_split)"
      ],
      "execution_count": null,
      "outputs": []
    },
    {
      "cell_type": "code",
      "metadata": {
        "id": "xedQeteyQ2P_"
      },
      "source": [
        "# import numpy as np\n",
        "# movies_data['year'] = pd.to_datetime(movies_data['release_date'], errors='coerce')\n",
        "# movies_data['year'] = movies_data['year'].apply(lambda x: str(x).split('-')[0] if x != np.nan else np.nan)"
      ],
      "execution_count": null,
      "outputs": []
    },
    {
      "cell_type": "markdown",
      "metadata": {
        "id": "blVCY5YjQ2QL"
      },
      "source": [
        "#### CONTENT BASED RECOMMENDER(METADATA BASED RECOMMENDER)"
      ]
    },
    {
      "cell_type": "code",
      "metadata": {
        "id": "MyDiQII8Q2QM"
      },
      "source": [
        "links_small = pd.read_csv('ml_dataset/links_small.csv', error_bad_lines= False)\n",
        "links_small.head()"
      ],
      "execution_count": null,
      "outputs": []
    },
    {
      "cell_type": "code",
      "metadata": {
        "id": "WdzW6AFWQ2QQ"
      },
      "source": [
        "links_small = links_small[links_small['tmdbId'].notnull()]['tmdbId'].astype('int')"
      ],
      "execution_count": null,
      "outputs": []
    },
    {
      "cell_type": "code",
      "metadata": {
        "id": "z_Nw235eQ2QU"
      },
      "source": [
        "from pandas.api.types import is_numeric_dtype\n",
        "is_numeric_dtype(md['id'])"
      ],
      "execution_count": null,
      "outputs": []
    },
    {
      "cell_type": "code",
      "metadata": {
        "id": "GZ_PiNUWQ2QY"
      },
      "source": [
        "md = md.drop([19730, 29503, 35587])\n",
        "md['id'] = md['id'].astype('int')\n",
        "md['id'].head(10)"
      ],
      "execution_count": null,
      "outputs": []
    },
    {
      "cell_type": "code",
      "metadata": {
        "id": "KkuwhJ7EQ2Qc",
        "colab": {
          "base_uri": "https://localhost:8080/",
          "height": 180
        },
        "outputId": "5dc199bc-fd1e-4a6b-d2af-c703705b0010"
      },
      "source": [
        "md_new = md[md['id'].isin(links_small)]\n",
        "md_new.shape"
      ],
      "execution_count": null,
      "outputs": [
        {
          "output_type": "error",
          "ename": "NameError",
          "evalue": "ignored",
          "traceback": [
            "\u001b[0;31m---------------------------------------------------------------------------\u001b[0m",
            "\u001b[0;31mNameError\u001b[0m                                 Traceback (most recent call last)",
            "\u001b[0;32m<ipython-input-5-61b7d96e75a1>\u001b[0m in \u001b[0;36m<module>\u001b[0;34m()\u001b[0m\n\u001b[0;32m----> 1\u001b[0;31m \u001b[0mmd_new\u001b[0m \u001b[0;34m=\u001b[0m \u001b[0mmd\u001b[0m\u001b[0;34m[\u001b[0m\u001b[0mmd\u001b[0m\u001b[0;34m[\u001b[0m\u001b[0;34m'id'\u001b[0m\u001b[0;34m]\u001b[0m\u001b[0;34m.\u001b[0m\u001b[0misin\u001b[0m\u001b[0;34m(\u001b[0m\u001b[0mlinks_small\u001b[0m\u001b[0;34m)\u001b[0m\u001b[0;34m]\u001b[0m\u001b[0;34m\u001b[0m\u001b[0;34m\u001b[0m\u001b[0m\n\u001b[0m\u001b[1;32m      2\u001b[0m \u001b[0mmd_new\u001b[0m\u001b[0;34m.\u001b[0m\u001b[0mshape\u001b[0m\u001b[0;34m\u001b[0m\u001b[0;34m\u001b[0m\u001b[0m\n",
            "\u001b[0;31mNameError\u001b[0m: name 'md' is not defined"
          ]
        }
      ]
    },
    {
      "cell_type": "code",
      "metadata": {
        "id": "DLHrFnY8Q2Qh"
      },
      "source": [
        "md_new_sample = md_new.sample(frac = 0.15,random_state=42)\n",
        "md_new_sample.shape"
      ],
      "execution_count": null,
      "outputs": []
    },
    {
      "cell_type": "code",
      "metadata": {
        "id": "Tptr_dlxQ2Qm"
      },
      "source": [
        "md_new_sample['tagline'] = md_new_sample['tagline'].fillna('')\n",
        "md_new_sample['description'] = md_new_sample['overview'] + md_new_sample['tagline']\n",
        "md_new_sample['description'] = md_new_sample['description'].fillna('')"
      ],
      "execution_count": null,
      "outputs": []
    },
    {
      "cell_type": "code",
      "metadata": {
        "id": "sspPN7POQ2Qp"
      },
      "source": [
        "from sklearn.feature_extraction.text import TfidfVectorizer\n",
        "from sklearn.metrics.pairwise import linear_kernel"
      ],
      "execution_count": null,
      "outputs": []
    },
    {
      "cell_type": "code",
      "metadata": {
        "id": "bLt5W1HBQ2Qt"
      },
      "source": [
        "tf = TfidfVectorizer(analyzer='word',ngram_range=(1, 2),stop_words='english')\n",
        "tfidf_matrix = tf.fit_transform(md_new_sample['description'])\n",
        "tfidf_matrix.shape"
      ],
      "execution_count": null,
      "outputs": []
    },
    {
      "cell_type": "code",
      "metadata": {
        "id": "oFE7ZrXRQ2Qw"
      },
      "source": [
        "cosine_sim = linear_kernel(tfidf_matrix, tfidf_matrix)"
      ],
      "execution_count": null,
      "outputs": []
    },
    {
      "cell_type": "code",
      "metadata": {
        "id": "XnSc7KOebbDN"
      },
      "source": [
        "cosine_sim"
      ],
      "execution_count": null,
      "outputs": []
    },
    {
      "cell_type": "code",
      "metadata": {
        "id": "6M_5sPekQ2Q0"
      },
      "source": [
        "pd.Series(md_new_sample.index, index=md_new_sample['title'])"
      ],
      "execution_count": null,
      "outputs": []
    },
    {
      "cell_type": "code",
      "metadata": {
        "id": "-W6NzOfaQ2Q3"
      },
      "source": [
        "md_new_sample = md_new_sample.reset_index()\n",
        "titles = md_new_sample['title']\n",
        "indices = pd.Series(md_new_sample.index, index=md_new_sample['title'])"
      ],
      "execution_count": null,
      "outputs": []
    },
    {
      "cell_type": "code",
      "metadata": {
        "id": "HUef7jv5Q2Q6"
      },
      "source": [
        "def recommend(title):\n",
        "    idx = indices[title]\n",
        "    sim_scores = list(enumerate(cosine_sim[idx]))\n",
        "    sim_scores = sorted(sim_scores, key=lambda x: x[1], reverse=True)\n",
        "    sim_scores = sim_scores[1:31]\n",
        "    movie_indices = [i[0] for i in sim_scores]\n",
        "    return titles.iloc[movie_indices]"
      ],
      "execution_count": null,
      "outputs": []
    },
    {
      "cell_type": "code",
      "metadata": {
        "id": "R4Ak9EfIQ2Q-"
      },
      "source": [
        "recommend('Avatar').head(10)"
      ],
      "execution_count": null,
      "outputs": []
    }
  ]
}